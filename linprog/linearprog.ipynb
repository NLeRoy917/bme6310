{
 "cells": [
  {
   "cell_type": "code",
   "execution_count": 1,
   "source": [
    "import numpy as np\n",
    "import matplotlib.pyplot as plt\n",
    "from scipy.optimize import linprog"
   ],
   "outputs": [],
   "metadata": {}
  },
  {
   "cell_type": "code",
   "execution_count": 23,
   "source": [
    "f = np.array([[170], [160], [172], [175], [177], [180], [185], [190], [195], [190], [185], [180]])\n",
    "f_new_shifts = np.array([[170], [110], [122], [175], [177], [230], [235], [190], [195], [190], [185], [180]])\n",
    "\n",
    "A = -1 * np.array([[1,\t0,\t0,\t0,\t0,\t0,\t0,\t0,\t0,\t1,\t1,\t1],\n",
    "            [1,\t1,\t0,\t0,\t0,\t0,\t0,\t0,\t0,\t0,\t1,\t1],\n",
    "            [1,\t1,\t1,\t0,\t0,\t0,\t0,\t0,\t0,\t0,\t0,\t1],\n",
    "            [1,\t1,\t1,\t1,\t0,\t0,\t0,\t0,\t0,\t0,\t0,\t0],\n",
    "            [0,\t1,\t1,\t1,\t1,\t0,\t0,\t0,\t0,\t0,\t0,\t0],\n",
    "            [0,\t0,\t1,\t1,\t1,\t1,\t0,\t0,\t0,\t0,\t0,\t0],\n",
    "            [0,\t0,\t0,\t1,\t1,\t1,\t1,\t0,\t0,\t0,\t0,\t0],\n",
    "            [0,\t0,\t0,\t0,\t1,\t1,\t1,\t1,\t0,\t0,\t0,\t0],\n",
    "            [0,\t0,\t0,\t0,\t0,\t1,\t1,\t1,\t1,\t0,\t0,\t0],\n",
    "            [0,\t0,\t0,\t0,\t0,\t0,\t1,\t1,\t1,\t1,\t0,\t0],\n",
    "            [0,\t0,\t0,\t0,\t0,\t0,\t0,\t1,\t1,\t1,\t1,\t0],\n",
    "            [0,\t0,\t0,\t0,\t0,\t0,\t0,\t0,\t1,\t1,\t1,\t1]])\n",
    "\n",
    "b = -1 * np.array([[48], [79], [65], [87], [64], [73], [82], [43], [52], [15], [15], [15]])\n",
    "b_more_agents = np.copy(b)\n",
    "\n",
    "# increase num agents by ten\n",
    "for i in range(len(b)):\n",
    "    b_more_agents[i] -= 10\n",
    "\n",
    "lb = 0\n",
    "ub = 1000\n",
    "\n",
    "res = linprog(f, A_ub=A, b_ub=b, bounds=(lb, ub))\n",
    "res_new_shifts = linprog(f_new_shifts, A_ub=A, b_ub=b, bounds=(lb, ub))\n",
    "res_more_agents = linprog(f, A_ub=A, b_ub=b_more_agents, bounds=(lb, ub))\n",
    "\n",
    "print(res['x'])"
   ],
   "outputs": [
    {
     "output_type": "stream",
     "name": "stdout",
     "text": [
      "[3.30000000e+01 3.69999998e+01 1.74860763e-08 3.00000000e+01\n",
      " 1.48433455e-09 4.29999999e+01 9.00000001e+00 2.98540209e-08\n",
      " 2.88446557e-08 5.99999992e+00 9.00000003e+00 5.86629107e-08]\n"
     ]
    }
   ],
   "metadata": {}
  },
  {
   "cell_type": "code",
   "execution_count": 26,
   "source": [
    "\n",
    "print(f\"Cost with original values: {res['fun']} Schmeckles\")\n"
   ],
   "outputs": [
    {
     "output_type": "stream",
     "name": "stdout",
     "text": [
      "Cost with original values: 28989.999967956155 Schmeckles\n"
     ]
    }
   ],
   "metadata": {}
  },
  {
   "cell_type": "code",
   "execution_count": 24,
   "source": [
    "\n",
    "print(f\"Cost with new shifts: {res_new_shifts['fun']} Schmeckles\")"
   ],
   "outputs": [
    {
     "output_type": "stream",
     "name": "stdout",
     "text": [
      "Cost with new shifts: 29739.999998148327 Schmeckles\n"
     ]
    }
   ],
   "metadata": {}
  },
  {
   "cell_type": "code",
   "execution_count": 25,
   "source": [
    "print(f\"Cost with more agents: {res_more_agents['fun']} Schmeckles\")"
   ],
   "outputs": [
    {
     "output_type": "stream",
     "name": "stdout",
     "text": [
      "Cost with more agents: 34289.999317113565 Schmeckles\n"
     ]
    }
   ],
   "metadata": {}
  }
 ],
 "metadata": {
  "kernelspec": {
   "name": "python3",
   "display_name": "Python 3.9.6 64-bit"
  },
  "language_info": {
   "codemirror_mode": {
    "name": "ipython",
    "version": 3
   },
   "file_extension": ".py",
   "mimetype": "text/x-python",
   "name": "python",
   "nbconvert_exporter": "python",
   "pygments_lexer": "ipython3",
   "version": "3.9.6"
  },
  "interpreter": {
   "hash": "aee8b7b246df8f9039afb4144a1f6fd8d2ca17a180786b69acc140d282b71a49"
  }
 },
 "nbformat": 4,
 "nbformat_minor": 5
}